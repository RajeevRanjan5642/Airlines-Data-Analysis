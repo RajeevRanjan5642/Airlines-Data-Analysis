{
 "cells": [
  {
   "cell_type": "markdown",
   "id": "00c30b19-c4e8-4eea-adda-09e2feef623f",
   "metadata": {},
   "source": [
    "# Objective\n",
    "\n",
    "The objective of this data analysis project is to identify opportunities to increase occupancy rate on low-performing flights, which can ultimately lead to increased profitability for the airline.\n",
    "\n",
    "Tech Stack : SQL, Python"
   ]
  },
  {
   "cell_type": "markdown",
   "id": "18d6e25d-bef5-4415-ab47-589f96231e99",
   "metadata": {},
   "source": [
    "# Importing Libraries"
   ]
  },
  {
   "cell_type": "code",
   "execution_count": 131,
   "id": "53a09aad-79d6-4cec-9c96-50a43cb04577",
   "metadata": {},
   "outputs": [],
   "source": [
    "import sqlite3\n",
    "import pandas as pd\n",
    "import matplotlib.pyplot as plt\n",
    "import warnings\n",
    "warnings.filterwarnings('ignore')\n",
    "import seaborn as sns"
   ]
  },
  {
   "cell_type": "markdown",
   "id": "4212d219-8e1a-4aec-83b4-faa5bbfd2f07",
   "metadata": {},
   "source": [
    "# Connecting Database"
   ]
  },
  {
   "cell_type": "code",
   "execution_count": 85,
   "id": "611ab623-6504-4585-b308-4eb9b44e0428",
   "metadata": {},
   "outputs": [],
   "source": [
    "connection = sqlite3.connect('travel.sqlite')"
   ]
  },
  {
   "cell_type": "code",
   "execution_count": 86,
   "id": "21b2cc31-ff45-42a1-bd88-4277f54fb0bc",
   "metadata": {},
   "outputs": [
    {
     "data": {
      "text/html": [
       "<div>\n",
       "<style scoped>\n",
       "    .dataframe tbody tr th:only-of-type {\n",
       "        vertical-align: middle;\n",
       "    }\n",
       "\n",
       "    .dataframe tbody tr th {\n",
       "        vertical-align: top;\n",
       "    }\n",
       "\n",
       "    .dataframe thead th {\n",
       "        text-align: right;\n",
       "    }\n",
       "</style>\n",
       "<table border=\"1\" class=\"dataframe\">\n",
       "  <thead>\n",
       "    <tr style=\"text-align: right;\">\n",
       "      <th></th>\n",
       "      <th>name</th>\n",
       "    </tr>\n",
       "  </thead>\n",
       "  <tbody>\n",
       "    <tr>\n",
       "      <th>0</th>\n",
       "      <td>aircrafts_data</td>\n",
       "    </tr>\n",
       "    <tr>\n",
       "      <th>1</th>\n",
       "      <td>airports_data</td>\n",
       "    </tr>\n",
       "    <tr>\n",
       "      <th>2</th>\n",
       "      <td>boarding_passes</td>\n",
       "    </tr>\n",
       "    <tr>\n",
       "      <th>3</th>\n",
       "      <td>bookings</td>\n",
       "    </tr>\n",
       "    <tr>\n",
       "      <th>4</th>\n",
       "      <td>flights</td>\n",
       "    </tr>\n",
       "    <tr>\n",
       "      <th>5</th>\n",
       "      <td>seats</td>\n",
       "    </tr>\n",
       "    <tr>\n",
       "      <th>6</th>\n",
       "      <td>ticket_flights</td>\n",
       "    </tr>\n",
       "    <tr>\n",
       "      <th>7</th>\n",
       "      <td>tickets</td>\n",
       "    </tr>\n",
       "  </tbody>\n",
       "</table>\n",
       "</div>"
      ],
      "text/plain": [
       "              name\n",
       "0   aircrafts_data\n",
       "1    airports_data\n",
       "2  boarding_passes\n",
       "3         bookings\n",
       "4          flights\n",
       "5            seats\n",
       "6   ticket_flights\n",
       "7          tickets"
      ]
     },
     "execution_count": 86,
     "metadata": {},
     "output_type": "execute_result"
    }
   ],
   "source": [
    "table_list = pd.read_sql_query(\"select name from sqlite_master where type='table'\",connection)\n",
    "table_list"
   ]
  },
  {
   "cell_type": "markdown",
   "id": "f7419af6-1b6d-484a-9a4a-eedef14007f8",
   "metadata": {},
   "source": [
    "# Data Exploration"
   ]
  },
  {
   "cell_type": "code",
   "execution_count": 87,
   "id": "03132490-c709-4074-a897-d213ba7b0cc6",
   "metadata": {},
   "outputs": [
    {
     "data": {
      "text/html": [
       "<div>\n",
       "<style scoped>\n",
       "    .dataframe tbody tr th:only-of-type {\n",
       "        vertical-align: middle;\n",
       "    }\n",
       "\n",
       "    .dataframe tbody tr th {\n",
       "        vertical-align: top;\n",
       "    }\n",
       "\n",
       "    .dataframe thead th {\n",
       "        text-align: right;\n",
       "    }\n",
       "</style>\n",
       "<table border=\"1\" class=\"dataframe\">\n",
       "  <thead>\n",
       "    <tr style=\"text-align: right;\">\n",
       "      <th></th>\n",
       "      <th>aircraft_code</th>\n",
       "      <th>model</th>\n",
       "      <th>range</th>\n",
       "    </tr>\n",
       "  </thead>\n",
       "  <tbody>\n",
       "    <tr>\n",
       "      <th>0</th>\n",
       "      <td>773</td>\n",
       "      <td>{\"en\": \"Boeing 777-300\", \"ru\": \"Боинг 777-300\"}</td>\n",
       "      <td>11100</td>\n",
       "    </tr>\n",
       "    <tr>\n",
       "      <th>1</th>\n",
       "      <td>763</td>\n",
       "      <td>{\"en\": \"Boeing 767-300\", \"ru\": \"Боинг 767-300\"}</td>\n",
       "      <td>7900</td>\n",
       "    </tr>\n",
       "    <tr>\n",
       "      <th>2</th>\n",
       "      <td>SU9</td>\n",
       "      <td>{\"en\": \"Sukhoi Superjet-100\", \"ru\": \"Сухой Суп...</td>\n",
       "      <td>3000</td>\n",
       "    </tr>\n",
       "    <tr>\n",
       "      <th>3</th>\n",
       "      <td>320</td>\n",
       "      <td>{\"en\": \"Airbus A320-200\", \"ru\": \"Аэробус A320-...</td>\n",
       "      <td>5700</td>\n",
       "    </tr>\n",
       "    <tr>\n",
       "      <th>4</th>\n",
       "      <td>321</td>\n",
       "      <td>{\"en\": \"Airbus A321-200\", \"ru\": \"Аэробус A321-...</td>\n",
       "      <td>5600</td>\n",
       "    </tr>\n",
       "  </tbody>\n",
       "</table>\n",
       "</div>"
      ],
      "text/plain": [
       "  aircraft_code                                              model  range\n",
       "0           773    {\"en\": \"Boeing 777-300\", \"ru\": \"Боинг 777-300\"}  11100\n",
       "1           763    {\"en\": \"Boeing 767-300\", \"ru\": \"Боинг 767-300\"}   7900\n",
       "2           SU9  {\"en\": \"Sukhoi Superjet-100\", \"ru\": \"Сухой Суп...   3000\n",
       "3           320  {\"en\": \"Airbus A320-200\", \"ru\": \"Аэробус A320-...   5700\n",
       "4           321  {\"en\": \"Airbus A321-200\", \"ru\": \"Аэробус A321-...   5600"
      ]
     },
     "execution_count": 87,
     "metadata": {},
     "output_type": "execute_result"
    }
   ],
   "source": [
    "aircrafts_data = pd.read_sql_query('select * from aircrafts_data',connection)\n",
    "aircrafts_data.head()"
   ]
  },
  {
   "cell_type": "code",
   "execution_count": 88,
   "id": "12c19af9-cc48-43e2-bf95-3c95a8ebe9b4",
   "metadata": {},
   "outputs": [
    {
     "data": {
      "text/plain": [
       "(9, 3)"
      ]
     },
     "execution_count": 88,
     "metadata": {},
     "output_type": "execute_result"
    }
   ],
   "source": [
    "aircrafts_data.shape"
   ]
  },
  {
   "cell_type": "code",
   "execution_count": 89,
   "id": "0f070f2e-2f39-451e-8b10-2d4a5c8e7de8",
   "metadata": {},
   "outputs": [
    {
     "data": {
      "text/html": [
       "<div>\n",
       "<style scoped>\n",
       "    .dataframe tbody tr th:only-of-type {\n",
       "        vertical-align: middle;\n",
       "    }\n",
       "\n",
       "    .dataframe tbody tr th {\n",
       "        vertical-align: top;\n",
       "    }\n",
       "\n",
       "    .dataframe thead th {\n",
       "        text-align: right;\n",
       "    }\n",
       "</style>\n",
       "<table border=\"1\" class=\"dataframe\">\n",
       "  <thead>\n",
       "    <tr style=\"text-align: right;\">\n",
       "      <th></th>\n",
       "      <th>airport_code</th>\n",
       "      <th>airport_name</th>\n",
       "      <th>city</th>\n",
       "      <th>coordinates</th>\n",
       "      <th>timezone</th>\n",
       "    </tr>\n",
       "  </thead>\n",
       "  <tbody>\n",
       "    <tr>\n",
       "      <th>0</th>\n",
       "      <td>YKS</td>\n",
       "      <td>{\"en\": \"Yakutsk Airport\", \"ru\": \"Якутск\"}</td>\n",
       "      <td>{\"en\": \"Yakutsk\", \"ru\": \"Якутск\"}</td>\n",
       "      <td>(129.77099609375,62.0932998657226562)</td>\n",
       "      <td>Asia/Yakutsk</td>\n",
       "    </tr>\n",
       "    <tr>\n",
       "      <th>1</th>\n",
       "      <td>MJZ</td>\n",
       "      <td>{\"en\": \"Mirny Airport\", \"ru\": \"Мирный\"}</td>\n",
       "      <td>{\"en\": \"Mirnyj\", \"ru\": \"Мирный\"}</td>\n",
       "      <td>(114.03900146484375,62.534698486328125)</td>\n",
       "      <td>Asia/Yakutsk</td>\n",
       "    </tr>\n",
       "    <tr>\n",
       "      <th>2</th>\n",
       "      <td>KHV</td>\n",
       "      <td>{\"en\": \"Khabarovsk-Novy Airport\", \"ru\": \"Хабар...</td>\n",
       "      <td>{\"en\": \"Khabarovsk\", \"ru\": \"Хабаровск\"}</td>\n",
       "      <td>(135.18800354004,48.5279998779300001)</td>\n",
       "      <td>Asia/Vladivostok</td>\n",
       "    </tr>\n",
       "    <tr>\n",
       "      <th>3</th>\n",
       "      <td>PKC</td>\n",
       "      <td>{\"en\": \"Yelizovo Airport\", \"ru\": \"Елизово\"}</td>\n",
       "      <td>{\"en\": \"Petropavlovsk\", \"ru\": \"Петропавловск-К...</td>\n",
       "      <td>(158.453994750976562,53.1679000854492188)</td>\n",
       "      <td>Asia/Kamchatka</td>\n",
       "    </tr>\n",
       "    <tr>\n",
       "      <th>4</th>\n",
       "      <td>UUS</td>\n",
       "      <td>{\"en\": \"Yuzhno-Sakhalinsk Airport\", \"ru\": \"Хом...</td>\n",
       "      <td>{\"en\": \"Yuzhno-Sakhalinsk\", \"ru\": \"Южно-Сахали...</td>\n",
       "      <td>(142.718002319335938,46.8886985778808594)</td>\n",
       "      <td>Asia/Sakhalin</td>\n",
       "    </tr>\n",
       "  </tbody>\n",
       "</table>\n",
       "</div>"
      ],
      "text/plain": [
       "  airport_code                                       airport_name  \\\n",
       "0          YKS          {\"en\": \"Yakutsk Airport\", \"ru\": \"Якутск\"}   \n",
       "1          MJZ            {\"en\": \"Mirny Airport\", \"ru\": \"Мирный\"}   \n",
       "2          KHV  {\"en\": \"Khabarovsk-Novy Airport\", \"ru\": \"Хабар...   \n",
       "3          PKC        {\"en\": \"Yelizovo Airport\", \"ru\": \"Елизово\"}   \n",
       "4          UUS  {\"en\": \"Yuzhno-Sakhalinsk Airport\", \"ru\": \"Хом...   \n",
       "\n",
       "                                                city  \\\n",
       "0                  {\"en\": \"Yakutsk\", \"ru\": \"Якутск\"}   \n",
       "1                   {\"en\": \"Mirnyj\", \"ru\": \"Мирный\"}   \n",
       "2            {\"en\": \"Khabarovsk\", \"ru\": \"Хабаровск\"}   \n",
       "3  {\"en\": \"Petropavlovsk\", \"ru\": \"Петропавловск-К...   \n",
       "4  {\"en\": \"Yuzhno-Sakhalinsk\", \"ru\": \"Южно-Сахали...   \n",
       "\n",
       "                                 coordinates          timezone  \n",
       "0      (129.77099609375,62.0932998657226562)      Asia/Yakutsk  \n",
       "1    (114.03900146484375,62.534698486328125)      Asia/Yakutsk  \n",
       "2      (135.18800354004,48.5279998779300001)  Asia/Vladivostok  \n",
       "3  (158.453994750976562,53.1679000854492188)    Asia/Kamchatka  \n",
       "4  (142.718002319335938,46.8886985778808594)     Asia/Sakhalin  "
      ]
     },
     "execution_count": 89,
     "metadata": {},
     "output_type": "execute_result"
    }
   ],
   "source": [
    "airports_data = pd.read_sql_query('select * from airports_data',connection)\n",
    "airports_data.head()"
   ]
  },
  {
   "cell_type": "code",
   "execution_count": 90,
   "id": "efb28a18-d334-401a-baba-8bf5e1e3f8d2",
   "metadata": {},
   "outputs": [
    {
     "data": {
      "text/plain": [
       "(104, 5)"
      ]
     },
     "execution_count": 90,
     "metadata": {},
     "output_type": "execute_result"
    }
   ],
   "source": [
    "airports_data.shape"
   ]
  },
  {
   "cell_type": "code",
   "execution_count": 91,
   "id": "2a0edce1-7d84-4ee1-b296-42cd65e78069",
   "metadata": {},
   "outputs": [
    {
     "data": {
      "text/html": [
       "<div>\n",
       "<style scoped>\n",
       "    .dataframe tbody tr th:only-of-type {\n",
       "        vertical-align: middle;\n",
       "    }\n",
       "\n",
       "    .dataframe tbody tr th {\n",
       "        vertical-align: top;\n",
       "    }\n",
       "\n",
       "    .dataframe thead th {\n",
       "        text-align: right;\n",
       "    }\n",
       "</style>\n",
       "<table border=\"1\" class=\"dataframe\">\n",
       "  <thead>\n",
       "    <tr style=\"text-align: right;\">\n",
       "      <th></th>\n",
       "      <th>ticket_no</th>\n",
       "      <th>flight_id</th>\n",
       "      <th>boarding_no</th>\n",
       "      <th>seat_no</th>\n",
       "    </tr>\n",
       "  </thead>\n",
       "  <tbody>\n",
       "    <tr>\n",
       "      <th>0</th>\n",
       "      <td>0005435212351</td>\n",
       "      <td>30625</td>\n",
       "      <td>1</td>\n",
       "      <td>2D</td>\n",
       "    </tr>\n",
       "    <tr>\n",
       "      <th>1</th>\n",
       "      <td>0005435212386</td>\n",
       "      <td>30625</td>\n",
       "      <td>2</td>\n",
       "      <td>3G</td>\n",
       "    </tr>\n",
       "    <tr>\n",
       "      <th>2</th>\n",
       "      <td>0005435212381</td>\n",
       "      <td>30625</td>\n",
       "      <td>3</td>\n",
       "      <td>4H</td>\n",
       "    </tr>\n",
       "    <tr>\n",
       "      <th>3</th>\n",
       "      <td>0005432211370</td>\n",
       "      <td>30625</td>\n",
       "      <td>4</td>\n",
       "      <td>5D</td>\n",
       "    </tr>\n",
       "    <tr>\n",
       "      <th>4</th>\n",
       "      <td>0005435212357</td>\n",
       "      <td>30625</td>\n",
       "      <td>5</td>\n",
       "      <td>11A</td>\n",
       "    </tr>\n",
       "  </tbody>\n",
       "</table>\n",
       "</div>"
      ],
      "text/plain": [
       "       ticket_no  flight_id  boarding_no seat_no\n",
       "0  0005435212351      30625            1      2D\n",
       "1  0005435212386      30625            2      3G\n",
       "2  0005435212381      30625            3      4H\n",
       "3  0005432211370      30625            4      5D\n",
       "4  0005435212357      30625            5     11A"
      ]
     },
     "execution_count": 91,
     "metadata": {},
     "output_type": "execute_result"
    }
   ],
   "source": [
    "boarding_passes = pd.read_sql_query('select * from boarding_passes',connection)\n",
    "boarding_passes.head()"
   ]
  },
  {
   "cell_type": "code",
   "execution_count": 92,
   "id": "7a9467c3-a2db-49d1-a3dc-fba26097bd91",
   "metadata": {},
   "outputs": [
    {
     "data": {
      "text/plain": [
       "(579686, 4)"
      ]
     },
     "execution_count": 92,
     "metadata": {},
     "output_type": "execute_result"
    }
   ],
   "source": [
    "boarding_passes.shape"
   ]
  },
  {
   "cell_type": "code",
   "execution_count": 93,
   "id": "568f6b64-c1f5-4318-9111-6179cce1b2ec",
   "metadata": {},
   "outputs": [
    {
     "data": {
      "text/html": [
       "<div>\n",
       "<style scoped>\n",
       "    .dataframe tbody tr th:only-of-type {\n",
       "        vertical-align: middle;\n",
       "    }\n",
       "\n",
       "    .dataframe tbody tr th {\n",
       "        vertical-align: top;\n",
       "    }\n",
       "\n",
       "    .dataframe thead th {\n",
       "        text-align: right;\n",
       "    }\n",
       "</style>\n",
       "<table border=\"1\" class=\"dataframe\">\n",
       "  <thead>\n",
       "    <tr style=\"text-align: right;\">\n",
       "      <th></th>\n",
       "      <th>book_ref</th>\n",
       "      <th>book_date</th>\n",
       "      <th>total_amount</th>\n",
       "    </tr>\n",
       "  </thead>\n",
       "  <tbody>\n",
       "    <tr>\n",
       "      <th>0</th>\n",
       "      <td>00000F</td>\n",
       "      <td>2017-07-05 03:12:00+03</td>\n",
       "      <td>265700</td>\n",
       "    </tr>\n",
       "    <tr>\n",
       "      <th>1</th>\n",
       "      <td>000012</td>\n",
       "      <td>2017-07-14 09:02:00+03</td>\n",
       "      <td>37900</td>\n",
       "    </tr>\n",
       "    <tr>\n",
       "      <th>2</th>\n",
       "      <td>000068</td>\n",
       "      <td>2017-08-15 14:27:00+03</td>\n",
       "      <td>18100</td>\n",
       "    </tr>\n",
       "    <tr>\n",
       "      <th>3</th>\n",
       "      <td>000181</td>\n",
       "      <td>2017-08-10 13:28:00+03</td>\n",
       "      <td>131800</td>\n",
       "    </tr>\n",
       "    <tr>\n",
       "      <th>4</th>\n",
       "      <td>0002D8</td>\n",
       "      <td>2017-08-07 21:40:00+03</td>\n",
       "      <td>23600</td>\n",
       "    </tr>\n",
       "  </tbody>\n",
       "</table>\n",
       "</div>"
      ],
      "text/plain": [
       "  book_ref               book_date  total_amount\n",
       "0   00000F  2017-07-05 03:12:00+03        265700\n",
       "1   000012  2017-07-14 09:02:00+03         37900\n",
       "2   000068  2017-08-15 14:27:00+03         18100\n",
       "3   000181  2017-08-10 13:28:00+03        131800\n",
       "4   0002D8  2017-08-07 21:40:00+03         23600"
      ]
     },
     "execution_count": 93,
     "metadata": {},
     "output_type": "execute_result"
    }
   ],
   "source": [
    "bookings = pd.read_sql_query('select * from bookings',connection)\n",
    "bookings.head()"
   ]
  },
  {
   "cell_type": "code",
   "execution_count": 94,
   "id": "081bf2fd-e932-49ac-95b8-1f442e793ceb",
   "metadata": {},
   "outputs": [
    {
     "data": {
      "text/plain": [
       "(262788, 3)"
      ]
     },
     "execution_count": 94,
     "metadata": {},
     "output_type": "execute_result"
    }
   ],
   "source": [
    "bookings.shape"
   ]
  },
  {
   "cell_type": "code",
   "execution_count": 95,
   "id": "6d7a334e-63c7-493b-b30c-225fec2f3780",
   "metadata": {},
   "outputs": [
    {
     "data": {
      "text/html": [
       "<div>\n",
       "<style scoped>\n",
       "    .dataframe tbody tr th:only-of-type {\n",
       "        vertical-align: middle;\n",
       "    }\n",
       "\n",
       "    .dataframe tbody tr th {\n",
       "        vertical-align: top;\n",
       "    }\n",
       "\n",
       "    .dataframe thead th {\n",
       "        text-align: right;\n",
       "    }\n",
       "</style>\n",
       "<table border=\"1\" class=\"dataframe\">\n",
       "  <thead>\n",
       "    <tr style=\"text-align: right;\">\n",
       "      <th></th>\n",
       "      <th>flight_id</th>\n",
       "      <th>flight_no</th>\n",
       "      <th>scheduled_departure</th>\n",
       "      <th>scheduled_arrival</th>\n",
       "      <th>departure_airport</th>\n",
       "      <th>arrival_airport</th>\n",
       "      <th>status</th>\n",
       "      <th>aircraft_code</th>\n",
       "      <th>actual_departure</th>\n",
       "      <th>actual_arrival</th>\n",
       "    </tr>\n",
       "  </thead>\n",
       "  <tbody>\n",
       "    <tr>\n",
       "      <th>0</th>\n",
       "      <td>1185</td>\n",
       "      <td>PG0134</td>\n",
       "      <td>2017-09-10 09:50:00+03</td>\n",
       "      <td>2017-09-10 14:55:00+03</td>\n",
       "      <td>DME</td>\n",
       "      <td>BTK</td>\n",
       "      <td>Scheduled</td>\n",
       "      <td>319</td>\n",
       "      <td>\\N</td>\n",
       "      <td>\\N</td>\n",
       "    </tr>\n",
       "    <tr>\n",
       "      <th>1</th>\n",
       "      <td>3979</td>\n",
       "      <td>PG0052</td>\n",
       "      <td>2017-08-25 14:50:00+03</td>\n",
       "      <td>2017-08-25 17:35:00+03</td>\n",
       "      <td>VKO</td>\n",
       "      <td>HMA</td>\n",
       "      <td>Scheduled</td>\n",
       "      <td>CR2</td>\n",
       "      <td>\\N</td>\n",
       "      <td>\\N</td>\n",
       "    </tr>\n",
       "    <tr>\n",
       "      <th>2</th>\n",
       "      <td>4739</td>\n",
       "      <td>PG0561</td>\n",
       "      <td>2017-09-05 12:30:00+03</td>\n",
       "      <td>2017-09-05 14:15:00+03</td>\n",
       "      <td>VKO</td>\n",
       "      <td>AER</td>\n",
       "      <td>Scheduled</td>\n",
       "      <td>763</td>\n",
       "      <td>\\N</td>\n",
       "      <td>\\N</td>\n",
       "    </tr>\n",
       "    <tr>\n",
       "      <th>3</th>\n",
       "      <td>5502</td>\n",
       "      <td>PG0529</td>\n",
       "      <td>2017-09-12 09:50:00+03</td>\n",
       "      <td>2017-09-12 11:20:00+03</td>\n",
       "      <td>SVO</td>\n",
       "      <td>UFA</td>\n",
       "      <td>Scheduled</td>\n",
       "      <td>763</td>\n",
       "      <td>\\N</td>\n",
       "      <td>\\N</td>\n",
       "    </tr>\n",
       "    <tr>\n",
       "      <th>4</th>\n",
       "      <td>6938</td>\n",
       "      <td>PG0461</td>\n",
       "      <td>2017-09-04 12:25:00+03</td>\n",
       "      <td>2017-09-04 13:20:00+03</td>\n",
       "      <td>SVO</td>\n",
       "      <td>ULV</td>\n",
       "      <td>Scheduled</td>\n",
       "      <td>SU9</td>\n",
       "      <td>\\N</td>\n",
       "      <td>\\N</td>\n",
       "    </tr>\n",
       "  </tbody>\n",
       "</table>\n",
       "</div>"
      ],
      "text/plain": [
       "   flight_id flight_no     scheduled_departure       scheduled_arrival  \\\n",
       "0       1185    PG0134  2017-09-10 09:50:00+03  2017-09-10 14:55:00+03   \n",
       "1       3979    PG0052  2017-08-25 14:50:00+03  2017-08-25 17:35:00+03   \n",
       "2       4739    PG0561  2017-09-05 12:30:00+03  2017-09-05 14:15:00+03   \n",
       "3       5502    PG0529  2017-09-12 09:50:00+03  2017-09-12 11:20:00+03   \n",
       "4       6938    PG0461  2017-09-04 12:25:00+03  2017-09-04 13:20:00+03   \n",
       "\n",
       "  departure_airport arrival_airport     status aircraft_code actual_departure  \\\n",
       "0               DME             BTK  Scheduled           319               \\N   \n",
       "1               VKO             HMA  Scheduled           CR2               \\N   \n",
       "2               VKO             AER  Scheduled           763               \\N   \n",
       "3               SVO             UFA  Scheduled           763               \\N   \n",
       "4               SVO             ULV  Scheduled           SU9               \\N   \n",
       "\n",
       "  actual_arrival  \n",
       "0             \\N  \n",
       "1             \\N  \n",
       "2             \\N  \n",
       "3             \\N  \n",
       "4             \\N  "
      ]
     },
     "execution_count": 95,
     "metadata": {},
     "output_type": "execute_result"
    }
   ],
   "source": [
    "flights = pd.read_sql_query('select * from flights',connection)\n",
    "flights.head()"
   ]
  },
  {
   "cell_type": "code",
   "execution_count": 96,
   "id": "c79eac5f-79e2-4ac1-846e-75ecaf9fbcf1",
   "metadata": {},
   "outputs": [
    {
     "data": {
      "text/html": [
       "<div>\n",
       "<style scoped>\n",
       "    .dataframe tbody tr th:only-of-type {\n",
       "        vertical-align: middle;\n",
       "    }\n",
       "\n",
       "    .dataframe tbody tr th {\n",
       "        vertical-align: top;\n",
       "    }\n",
       "\n",
       "    .dataframe thead th {\n",
       "        text-align: right;\n",
       "    }\n",
       "</style>\n",
       "<table border=\"1\" class=\"dataframe\">\n",
       "  <thead>\n",
       "    <tr style=\"text-align: right;\">\n",
       "      <th></th>\n",
       "      <th>aircraft_code</th>\n",
       "      <th>seat_no</th>\n",
       "      <th>fare_conditions</th>\n",
       "    </tr>\n",
       "  </thead>\n",
       "  <tbody>\n",
       "    <tr>\n",
       "      <th>0</th>\n",
       "      <td>319</td>\n",
       "      <td>2A</td>\n",
       "      <td>Business</td>\n",
       "    </tr>\n",
       "    <tr>\n",
       "      <th>1</th>\n",
       "      <td>319</td>\n",
       "      <td>2C</td>\n",
       "      <td>Business</td>\n",
       "    </tr>\n",
       "    <tr>\n",
       "      <th>2</th>\n",
       "      <td>319</td>\n",
       "      <td>2D</td>\n",
       "      <td>Business</td>\n",
       "    </tr>\n",
       "    <tr>\n",
       "      <th>3</th>\n",
       "      <td>319</td>\n",
       "      <td>2F</td>\n",
       "      <td>Business</td>\n",
       "    </tr>\n",
       "    <tr>\n",
       "      <th>4</th>\n",
       "      <td>319</td>\n",
       "      <td>3A</td>\n",
       "      <td>Business</td>\n",
       "    </tr>\n",
       "  </tbody>\n",
       "</table>\n",
       "</div>"
      ],
      "text/plain": [
       "  aircraft_code seat_no fare_conditions\n",
       "0           319      2A        Business\n",
       "1           319      2C        Business\n",
       "2           319      2D        Business\n",
       "3           319      2F        Business\n",
       "4           319      3A        Business"
      ]
     },
     "execution_count": 96,
     "metadata": {},
     "output_type": "execute_result"
    }
   ],
   "source": [
    "seats = pd.read_sql_query('select * from seats',connection)\n",
    "seats.head()"
   ]
  },
  {
   "cell_type": "code",
   "execution_count": 97,
   "id": "1fbd3e69-481d-4a1c-9376-c4db31c760fb",
   "metadata": {},
   "outputs": [
    {
     "data": {
      "text/plain": [
       "(1339, 3)"
      ]
     },
     "execution_count": 97,
     "metadata": {},
     "output_type": "execute_result"
    }
   ],
   "source": [
    "seats.shape"
   ]
  },
  {
   "cell_type": "code",
   "execution_count": 98,
   "id": "823156b1-213a-47fb-a1f1-ce35e099cd89",
   "metadata": {},
   "outputs": [
    {
     "data": {
      "text/html": [
       "<div>\n",
       "<style scoped>\n",
       "    .dataframe tbody tr th:only-of-type {\n",
       "        vertical-align: middle;\n",
       "    }\n",
       "\n",
       "    .dataframe tbody tr th {\n",
       "        vertical-align: top;\n",
       "    }\n",
       "\n",
       "    .dataframe thead th {\n",
       "        text-align: right;\n",
       "    }\n",
       "</style>\n",
       "<table border=\"1\" class=\"dataframe\">\n",
       "  <thead>\n",
       "    <tr style=\"text-align: right;\">\n",
       "      <th></th>\n",
       "      <th>ticket_no</th>\n",
       "      <th>flight_id</th>\n",
       "      <th>fare_conditions</th>\n",
       "      <th>amount</th>\n",
       "    </tr>\n",
       "  </thead>\n",
       "  <tbody>\n",
       "    <tr>\n",
       "      <th>0</th>\n",
       "      <td>0005432159776</td>\n",
       "      <td>30625</td>\n",
       "      <td>Business</td>\n",
       "      <td>42100</td>\n",
       "    </tr>\n",
       "    <tr>\n",
       "      <th>1</th>\n",
       "      <td>0005435212351</td>\n",
       "      <td>30625</td>\n",
       "      <td>Business</td>\n",
       "      <td>42100</td>\n",
       "    </tr>\n",
       "    <tr>\n",
       "      <th>2</th>\n",
       "      <td>0005435212386</td>\n",
       "      <td>30625</td>\n",
       "      <td>Business</td>\n",
       "      <td>42100</td>\n",
       "    </tr>\n",
       "    <tr>\n",
       "      <th>3</th>\n",
       "      <td>0005435212381</td>\n",
       "      <td>30625</td>\n",
       "      <td>Business</td>\n",
       "      <td>42100</td>\n",
       "    </tr>\n",
       "    <tr>\n",
       "      <th>4</th>\n",
       "      <td>0005432211370</td>\n",
       "      <td>30625</td>\n",
       "      <td>Business</td>\n",
       "      <td>42100</td>\n",
       "    </tr>\n",
       "  </tbody>\n",
       "</table>\n",
       "</div>"
      ],
      "text/plain": [
       "       ticket_no  flight_id fare_conditions  amount\n",
       "0  0005432159776      30625        Business   42100\n",
       "1  0005435212351      30625        Business   42100\n",
       "2  0005435212386      30625        Business   42100\n",
       "3  0005435212381      30625        Business   42100\n",
       "4  0005432211370      30625        Business   42100"
      ]
     },
     "execution_count": 98,
     "metadata": {},
     "output_type": "execute_result"
    }
   ],
   "source": [
    "ticket_flights = pd.read_sql_query('select * from ticket_flights',connection)\n",
    "ticket_flights.head()"
   ]
  },
  {
   "cell_type": "code",
   "execution_count": 99,
   "id": "2e1146ba-33fb-4ff3-8ed6-252d6420cde7",
   "metadata": {},
   "outputs": [
    {
     "data": {
      "text/plain": [
       "(1045726, 4)"
      ]
     },
     "execution_count": 99,
     "metadata": {},
     "output_type": "execute_result"
    }
   ],
   "source": [
    "ticket_flights.shape"
   ]
  },
  {
   "cell_type": "code",
   "execution_count": 100,
   "id": "f70c0709-2480-461b-b6c1-daac6b2fff73",
   "metadata": {},
   "outputs": [
    {
     "data": {
      "text/html": [
       "<div>\n",
       "<style scoped>\n",
       "    .dataframe tbody tr th:only-of-type {\n",
       "        vertical-align: middle;\n",
       "    }\n",
       "\n",
       "    .dataframe tbody tr th {\n",
       "        vertical-align: top;\n",
       "    }\n",
       "\n",
       "    .dataframe thead th {\n",
       "        text-align: right;\n",
       "    }\n",
       "</style>\n",
       "<table border=\"1\" class=\"dataframe\">\n",
       "  <thead>\n",
       "    <tr style=\"text-align: right;\">\n",
       "      <th></th>\n",
       "      <th>ticket_no</th>\n",
       "      <th>book_ref</th>\n",
       "      <th>passenger_id</th>\n",
       "    </tr>\n",
       "  </thead>\n",
       "  <tbody>\n",
       "    <tr>\n",
       "      <th>0</th>\n",
       "      <td>0005432000987</td>\n",
       "      <td>06B046</td>\n",
       "      <td>8149 604011</td>\n",
       "    </tr>\n",
       "    <tr>\n",
       "      <th>1</th>\n",
       "      <td>0005432000988</td>\n",
       "      <td>06B046</td>\n",
       "      <td>8499 420203</td>\n",
       "    </tr>\n",
       "    <tr>\n",
       "      <th>2</th>\n",
       "      <td>0005432000989</td>\n",
       "      <td>E170C3</td>\n",
       "      <td>1011 752484</td>\n",
       "    </tr>\n",
       "    <tr>\n",
       "      <th>3</th>\n",
       "      <td>0005432000990</td>\n",
       "      <td>E170C3</td>\n",
       "      <td>4849 400049</td>\n",
       "    </tr>\n",
       "    <tr>\n",
       "      <th>4</th>\n",
       "      <td>0005432000991</td>\n",
       "      <td>F313DD</td>\n",
       "      <td>6615 976589</td>\n",
       "    </tr>\n",
       "  </tbody>\n",
       "</table>\n",
       "</div>"
      ],
      "text/plain": [
       "       ticket_no book_ref passenger_id\n",
       "0  0005432000987   06B046  8149 604011\n",
       "1  0005432000988   06B046  8499 420203\n",
       "2  0005432000989   E170C3  1011 752484\n",
       "3  0005432000990   E170C3  4849 400049\n",
       "4  0005432000991   F313DD  6615 976589"
      ]
     },
     "execution_count": 100,
     "metadata": {},
     "output_type": "execute_result"
    }
   ],
   "source": [
    "tickets = pd.read_sql_query('select * from tickets',connection)\n",
    "tickets.head()"
   ]
  },
  {
   "cell_type": "code",
   "execution_count": 101,
   "id": "94c962a2-4d20-4dfc-8380-c15e41a22482",
   "metadata": {},
   "outputs": [
    {
     "data": {
      "text/plain": [
       "(366733, 3)"
      ]
     },
     "execution_count": 101,
     "metadata": {},
     "output_type": "execute_result"
    }
   ],
   "source": [
    "tickets.shape"
   ]
  },
  {
   "cell_type": "code",
   "execution_count": 102,
   "id": "f1a8d44a-069e-4139-ba5b-684adeaae253",
   "metadata": {},
   "outputs": [
    {
     "name": "stdout",
     "output_type": "stream",
     "text": [
      "\n",
      "\n",
      "aircrafts_data:\n",
      "\n",
      "('aircraft_code', 'character(3)')\n",
      "('model', 'jsonb')\n",
      "('range', 'INTEGER')\n",
      "\n",
      "\n",
      "airports_data:\n",
      "\n",
      "('airport_code', 'character(3)')\n",
      "('airport_name', 'jsonb')\n",
      "('city', 'jsonb')\n",
      "('coordinates', 'point')\n",
      "('timezone', 'TEXT')\n",
      "\n",
      "\n",
      "boarding_passes:\n",
      "\n",
      "('ticket_no', 'character(13)')\n",
      "('flight_id', 'INTEGER')\n",
      "('boarding_no', 'INTEGER')\n",
      "('seat_no', 'character varying(4)')\n",
      "\n",
      "\n",
      "bookings:\n",
      "\n",
      "('book_ref', 'character(6)')\n",
      "('book_date', 'timestamp with time zone')\n",
      "('total_amount', 'numeric(10,2)')\n",
      "\n",
      "\n",
      "flights:\n",
      "\n",
      "('flight_id', 'INTEGER')\n",
      "('flight_no', 'character(6)')\n",
      "('scheduled_departure', 'timestamp with time zone')\n",
      "('scheduled_arrival', 'timestamp with time zone')\n",
      "('departure_airport', 'character(3)')\n",
      "('arrival_airport', 'character(3)')\n",
      "('status', 'character varying(20)')\n",
      "('aircraft_code', 'character(3)')\n",
      "('actual_departure', 'timestamp with time zone')\n",
      "('actual_arrival', 'timestamp with time zone')\n",
      "\n",
      "\n",
      "seats:\n",
      "\n",
      "('aircraft_code', 'character(3)')\n",
      "('seat_no', 'character varying(4)')\n",
      "('fare_conditions', 'character varying(10)')\n",
      "\n",
      "\n",
      "ticket_flights:\n",
      "\n",
      "('ticket_no', 'character(13)')\n",
      "('flight_id', 'INTEGER')\n",
      "('fare_conditions', 'character varying(10)')\n",
      "('amount', 'numeric(10,2)')\n",
      "\n",
      "\n",
      "tickets:\n",
      "\n",
      "('ticket_no', 'character(13)')\n",
      "('book_ref', 'character(6)')\n",
      "('passenger_id', 'character varying(20)')\n"
     ]
    }
   ],
   "source": [
    "# getting the datatypes of the columns\n",
    "for table in table_list['name']:\n",
    "    print(f'\\n\\n{table}:\\n')\n",
    "    column_info = connection.execute(f\"PRAGMA table_info({table})\")\n",
    "    for column in column_info.fetchall():\n",
    "        print(column[1:3])"
   ]
  },
  {
   "cell_type": "code",
   "execution_count": 103,
   "id": "a26c1ee5-02a2-45dd-8c5a-2232ae7521e7",
   "metadata": {},
   "outputs": [
    {
     "name": "stdout",
     "output_type": "stream",
     "text": [
      "\n",
      "aircrafts_data:\n",
      "aircraft_code    0\n",
      "model            0\n",
      "range            0\n",
      "dtype: int64\n",
      "\n",
      "airports_data:\n",
      "airport_code    0\n",
      "airport_name    0\n",
      "city            0\n",
      "coordinates     0\n",
      "timezone        0\n",
      "dtype: int64\n",
      "\n",
      "boarding_passes:\n",
      "ticket_no      0\n",
      "flight_id      0\n",
      "boarding_no    0\n",
      "seat_no        0\n",
      "dtype: int64\n",
      "\n",
      "bookings:\n",
      "book_ref        0\n",
      "book_date       0\n",
      "total_amount    0\n",
      "dtype: int64\n",
      "\n",
      "flights:\n",
      "flight_id              0\n",
      "flight_no              0\n",
      "scheduled_departure    0\n",
      "scheduled_arrival      0\n",
      "departure_airport      0\n",
      "arrival_airport        0\n",
      "status                 0\n",
      "aircraft_code          0\n",
      "actual_departure       0\n",
      "actual_arrival         0\n",
      "dtype: int64\n",
      "\n",
      "seats:\n",
      "aircraft_code      0\n",
      "seat_no            0\n",
      "fare_conditions    0\n",
      "dtype: int64\n",
      "\n",
      "ticket_flights:\n",
      "ticket_no          0\n",
      "flight_id          0\n",
      "fare_conditions    0\n",
      "amount             0\n",
      "dtype: int64\n",
      "\n",
      "tickets:\n",
      "ticket_no       0\n",
      "book_ref        0\n",
      "passenger_id    0\n",
      "dtype: int64\n"
     ]
    }
   ],
   "source": [
    "# checking for missing values\n",
    "for table in table_list['name']:\n",
    "    print(f'\\n{table}:')\n",
    "    df = pd.read_sql_query(f'select * from {table}',connection)\n",
    "    print(df.isna().sum())"
   ]
  },
  {
   "cell_type": "markdown",
   "id": "28fc7a34-d352-49ce-a0f0-b03431637905",
   "metadata": {},
   "source": [
    "# Basic Analysis"
   ]
  },
  {
   "cell_type": "markdown",
   "id": "4b02ebeb-bdb2-4459-b746-ba9ea5b64567",
   "metadata": {},
   "source": [
    "How many planes have more than 100 seats?"
   ]
  },
  {
   "cell_type": "code",
   "execution_count": 104,
   "id": "11f227df-5fc3-4428-a621-02877dbb3f5b",
   "metadata": {},
   "outputs": [
    {
     "data": {
      "text/html": [
       "<div>\n",
       "<style scoped>\n",
       "    .dataframe tbody tr th:only-of-type {\n",
       "        vertical-align: middle;\n",
       "    }\n",
       "\n",
       "    .dataframe tbody tr th {\n",
       "        vertical-align: top;\n",
       "    }\n",
       "\n",
       "    .dataframe thead th {\n",
       "        text-align: right;\n",
       "    }\n",
       "</style>\n",
       "<table border=\"1\" class=\"dataframe\">\n",
       "  <thead>\n",
       "    <tr style=\"text-align: right;\">\n",
       "      <th></th>\n",
       "      <th>aircraft_code</th>\n",
       "      <th>seats</th>\n",
       "    </tr>\n",
       "  </thead>\n",
       "  <tbody>\n",
       "    <tr>\n",
       "      <th>0</th>\n",
       "      <td>319</td>\n",
       "      <td>116</td>\n",
       "    </tr>\n",
       "    <tr>\n",
       "      <th>1</th>\n",
       "      <td>320</td>\n",
       "      <td>140</td>\n",
       "    </tr>\n",
       "    <tr>\n",
       "      <th>2</th>\n",
       "      <td>321</td>\n",
       "      <td>170</td>\n",
       "    </tr>\n",
       "    <tr>\n",
       "      <th>3</th>\n",
       "      <td>733</td>\n",
       "      <td>130</td>\n",
       "    </tr>\n",
       "    <tr>\n",
       "      <th>4</th>\n",
       "      <td>763</td>\n",
       "      <td>222</td>\n",
       "    </tr>\n",
       "    <tr>\n",
       "      <th>5</th>\n",
       "      <td>773</td>\n",
       "      <td>402</td>\n",
       "    </tr>\n",
       "  </tbody>\n",
       "</table>\n",
       "</div>"
      ],
      "text/plain": [
       "  aircraft_code  seats\n",
       "0           319    116\n",
       "1           320    140\n",
       "2           321    170\n",
       "3           733    130\n",
       "4           763    222\n",
       "5           773    402"
      ]
     },
     "execution_count": 104,
     "metadata": {},
     "output_type": "execute_result"
    }
   ],
   "source": [
    "pd.read_sql_query(\"\"\"select aircraft_code, count(seat_no) as seats \n",
    "                    from seats group by aircraft_code having seats>100\"\"\", connection)"
   ]
  },
  {
   "cell_type": "markdown",
   "id": "833b496a-1e15-416f-b099-2573fda27c17",
   "metadata": {},
   "source": [
    "Hence, there are 6 planes having more than 100 seats."
   ]
  },
  {
   "cell_type": "markdown",
   "id": "0ee715f6-8180-4a65-a66a-2fe41f8ca2cd",
   "metadata": {},
   "source": [
    "How the number of tickets booked and total amount earned changed with the time?"
   ]
  },
  {
   "cell_type": "code",
   "execution_count": 121,
   "id": "333f12e0-d125-452a-8925-aa5c2e9d7412",
   "metadata": {},
   "outputs": [
    {
     "data": {
      "image/png": "[encoded data removed]",
      "text/plain": [
       "<Figure size 1500x500 with 1 Axes>"
      ]
     },
     "metadata": {},
     "output_type": "display_data"
    }
   ],
   "source": [
    "tickets = pd.read_sql_query(\"\"\"select * from bookings b inner join tickets t on b.book_ref=t.book_ref\"\"\",connection)\n",
    "tickets['book_date'] = pd.to_datetime(tickets['book_date'])\n",
    "tickets['date']=tickets['book_date'].dt.date\n",
    "x = tickets.groupby('date')[['ticket_no']].count()\n",
    "plt.figure(figsize=(15,5))\n",
    "plt.plot(x.index,x['ticket_no'],marker='o')\n",
    "plt.xlabel('Date',fontsize=20)\n",
    "plt.ylabel('No. of Tickets',fontsize=20)\n",
    "plt.grid('b')\n",
    "plt.show()"
   ]
  },
  {
   "cell_type": "code",
   "execution_count": 122,
   "id": "d4e73204-bf71-47d0-887e-1d26409f2f3e",
   "metadata": {},
   "outputs": [],
   "source": [
    "bookings = pd.read_sql_query(\"\"\"select * from bookings\"\"\",connection)\n",
    "bookings['book_date'] = pd.to_datetime(bookings['book_date'])\n",
    "bookings['date']=bookings['book_date'].dt.date\n",
    "x = bookings.groupby('date')[['total_amount']].sum()"
   ]
  },
  {
   "cell_type": "code",
   "execution_count": 124,
   "id": "94e42fb7-e580-4349-a637-e9dd4fe2f187",
   "metadata": {},
   "outputs": [
    {
     "data": {
      "image/png": "[encoded data removed]",
      "text/plain": [
       "<Figure size 1500x500 with 1 Axes>"
      ]
     },
     "metadata": {},
     "output_type": "display_data"
    }
   ],
   "source": [
    "plt.figure(figsize=(15,5))\n",
    "plt.plot(x.index,x['total_amount'],marker='o')\n",
    "plt.xlabel('Date',fontsize=20)\n",
    "plt.ylabel('Total Amount',fontsize=20)\n",
    "plt.grid('b')\n",
    "plt.show()"
   ]
  },
  {
   "cell_type": "markdown",
   "id": "fbc47e80-6b18-4717-b25a-887c1515aa9e",
   "metadata": {},
   "source": [
    "Upon analysis of the line chart, we observe that the no. of tickets booked exhibits a gradual increase from June 22nd to July 7th with a small dip on July 8 followed by a relatively stable pattern from July 8th until August, with a noticeable peak  where the highest no. of tickets were booked on a single day. \n",
    "\n",
    "We can see a similar trend in total revenue earned by the company throughout the analysed time period. These findings suggest that further exploration of the factors contributing to the peak in ticket bookings may be beneficial for increasing overall revenue and optimizing operational strategies."
   ]
  },
  {
   "cell_type": "markdown",
   "id": "52376327-ab6c-48eb-a059-d58a5cc2f510",
   "metadata": {},
   "source": [
    "Calculate the average charges for each aircraft with different fare conditions."
   ]
  },
  {
   "cell_type": "code",
   "execution_count": 130,
   "id": "17ab3d5d-1305-4227-b3dd-6be9d5d8b78a",
   "metadata": {},
   "outputs": [
    {
     "data": {
      "text/html": [
       "<div>\n",
       "<style scoped>\n",
       "    .dataframe tbody tr th:only-of-type {\n",
       "        vertical-align: middle;\n",
       "    }\n",
       "\n",
       "    .dataframe tbody tr th {\n",
       "        vertical-align: top;\n",
       "    }\n",
       "\n",
       "    .dataframe thead th {\n",
       "        text-align: right;\n",
       "    }\n",
       "</style>\n",
       "<table border=\"1\" class=\"dataframe\">\n",
       "  <thead>\n",
       "    <tr style=\"text-align: right;\">\n",
       "      <th></th>\n",
       "      <th>aircraft_code</th>\n",
       "      <th>fare_conditions</th>\n",
       "      <th>avg_amount</th>\n",
       "    </tr>\n",
       "  </thead>\n",
       "  <tbody>\n",
       "    <tr>\n",
       "      <th>0</th>\n",
       "      <td>319</td>\n",
       "      <td>Business</td>\n",
       "      <td>113550.56</td>\n",
       "    </tr>\n",
       "    <tr>\n",
       "      <th>1</th>\n",
       "      <td>319</td>\n",
       "      <td>Economy</td>\n",
       "      <td>38311.40</td>\n",
       "    </tr>\n",
       "    <tr>\n",
       "      <th>2</th>\n",
       "      <td>321</td>\n",
       "      <td>Business</td>\n",
       "      <td>34435.66</td>\n",
       "    </tr>\n",
       "    <tr>\n",
       "      <th>3</th>\n",
       "      <td>321</td>\n",
       "      <td>Economy</td>\n",
       "      <td>11534.97</td>\n",
       "    </tr>\n",
       "    <tr>\n",
       "      <th>4</th>\n",
       "      <td>733</td>\n",
       "      <td>Business</td>\n",
       "      <td>41865.63</td>\n",
       "    </tr>\n",
       "    <tr>\n",
       "      <th>5</th>\n",
       "      <td>733</td>\n",
       "      <td>Economy</td>\n",
       "      <td>13985.15</td>\n",
       "    </tr>\n",
       "    <tr>\n",
       "      <th>6</th>\n",
       "      <td>763</td>\n",
       "      <td>Business</td>\n",
       "      <td>82839.84</td>\n",
       "    </tr>\n",
       "    <tr>\n",
       "      <th>7</th>\n",
       "      <td>763</td>\n",
       "      <td>Economy</td>\n",
       "      <td>27594.72</td>\n",
       "    </tr>\n",
       "    <tr>\n",
       "      <th>8</th>\n",
       "      <td>773</td>\n",
       "      <td>Business</td>\n",
       "      <td>57779.91</td>\n",
       "    </tr>\n",
       "    <tr>\n",
       "      <th>9</th>\n",
       "      <td>773</td>\n",
       "      <td>Comfort</td>\n",
       "      <td>32740.55</td>\n",
       "    </tr>\n",
       "    <tr>\n",
       "      <th>10</th>\n",
       "      <td>773</td>\n",
       "      <td>Economy</td>\n",
       "      <td>19265.23</td>\n",
       "    </tr>\n",
       "    <tr>\n",
       "      <th>11</th>\n",
       "      <td>CN1</td>\n",
       "      <td>Economy</td>\n",
       "      <td>6568.55</td>\n",
       "    </tr>\n",
       "    <tr>\n",
       "      <th>12</th>\n",
       "      <td>CR2</td>\n",
       "      <td>Economy</td>\n",
       "      <td>13207.66</td>\n",
       "    </tr>\n",
       "    <tr>\n",
       "      <th>13</th>\n",
       "      <td>SU9</td>\n",
       "      <td>Business</td>\n",
       "      <td>33487.85</td>\n",
       "    </tr>\n",
       "    <tr>\n",
       "      <th>14</th>\n",
       "      <td>SU9</td>\n",
       "      <td>Economy</td>\n",
       "      <td>11220.18</td>\n",
       "    </tr>\n",
       "  </tbody>\n",
       "</table>\n",
       "</div>"
      ],
      "text/plain": [
       "   aircraft_code fare_conditions  avg_amount\n",
       "0            319        Business   113550.56\n",
       "1            319         Economy    38311.40\n",
       "2            321        Business    34435.66\n",
       "3            321         Economy    11534.97\n",
       "4            733        Business    41865.63\n",
       "5            733         Economy    13985.15\n",
       "6            763        Business    82839.84\n",
       "7            763         Economy    27594.72\n",
       "8            773        Business    57779.91\n",
       "9            773         Comfort    32740.55\n",
       "10           773         Economy    19265.23\n",
       "11           CN1         Economy     6568.55\n",
       "12           CR2         Economy    13207.66\n",
       "13           SU9        Business    33487.85\n",
       "14           SU9         Economy    11220.18"
      ]
     },
     "execution_count": 130,
     "metadata": {},
     "output_type": "execute_result"
    }
   ],
   "source": [
    "df = pd.read_sql_query(\"\"\"select aircraft_code,fare_conditions,round(avg(amount),2) as avg_amount from ticket_flights tf inner join flights f on tf.flight_id=f.flight_id group by aircraft_code, fare_conditions\"\"\",connection)\n",
    "df"
   ]
  },
  {
   "cell_type": "code",
   "execution_count": 132,
   "id": "bbfbed30-ae2c-477f-851e-09a4afcb3dd2",
   "metadata": {},
   "outputs": [
    {
     "data": {
      "text/plain": [
       "<Axes: xlabel='aircraft_code', ylabel='avg_amount'>"
      ]
     },
     "execution_count": 132,
     "metadata": {},
     "output_type": "execute_result"
    },
    {
     "data": {
      "image/png": "[encoded data removed]",
      "text/plain": [
       "<Figure size 640x480 with 1 Axes>"
      ]
     },
     "metadata": {},
     "output_type": "display_data"
    }
   ],
   "source": [
    "sns.barplot(data=df, x='aircraft_code',y='avg_amount',hue='fare_conditions')"
   ]
  },
  {
   "cell_type": "markdown",
   "id": "757f0306-ff75-4e17-babd-1fb4d244e2b8",
   "metadata": {},
   "source": [
    "We observe that the comfort class is only available on aircraft with code 773. Aircrafts with codes CN1 and CR2 only provide economy class. The charges for business class is consistently greater than those for economy class across all the planes."
   ]
  },
  {
   "cell_type": "markdown",
   "id": "9594019f-74ea-4975-bbcb-910b8f71552b",
   "metadata": {},
   "source": [
    "The basic analysis of data provides insights into the no. of planes with more than 100 seats, how the no. of tickets booked and total amount earned changed over time, and the average fare for each aircraft with different fare conditions. These findings will be helpful in developing strategies to increase occupancy rates and optimize pricing for each aircraft."
   ]
  },
  {
   "cell_type": "markdown",
   "id": "e0cedd79-ae7c-4786-b05c-8aeb040fe903",
   "metadata": {},
   "source": [
    "# Analyzing occupancy rate"
   ]
  },
  {
   "cell_type": "markdown",
   "id": "9dad81a1-fa1a-413e-b133-24179bec3310",
   "metadata": {},
   "source": [
    "For each aircraft, calculate the total revenue per year and the average revenue per ticket."
   ]
  },
  {
   "cell_type": "code",
   "execution_count": null,
   "id": "16b71e14-dc04-4b2a-832c-29596f3bf467",
   "metadata": {},
   "outputs": [],
   "source": []
  }
 ],
 "metadata": {
  "kernelspec": {
   "display_name": "Python 3 (ipykernel)",
   "language": "python",
   "name": "python3"
  },
  "language_info": {
   "codemirror_mode": {
    "name": "ipython",
    "version": 3
   },
   "file_extension": ".py",
   "mimetype": "text/x-python",
   "name": "python",
   "nbconvert_exporter": "python",
   "pygments_lexer": "ipython3",
   "version": "3.11.5"
  }
 },
 "nbformat": 4,
 "nbformat_minor": 5
}
